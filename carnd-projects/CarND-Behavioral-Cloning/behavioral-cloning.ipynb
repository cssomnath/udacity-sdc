{
 "cells": [
  {
   "cell_type": "code",
   "execution_count": 1,
   "metadata": {
    "collapsed": false
   },
   "outputs": [
    {
     "name": "stderr",
     "output_type": "stream",
     "text": [
      "Using TensorFlow backend.\n"
     ]
    }
   ],
   "source": [
    "import numpy as np\n",
    "import os\n",
    "import random\n",
    "import scipy.misc\n",
    "import time\n",
    "\n",
    "from keras.models import Sequential\n",
    "from keras.layers.core import Dense, Activation, Flatten\n",
    "from keras.layers.convolutional import Convolution2D\n",
    "from keras.layers.pooling import MaxPooling2D"
   ]
  },
  {
   "cell_type": "code",
   "execution_count": 2,
   "metadata": {
    "collapsed": false
   },
   "outputs": [],
   "source": [
    "class DataHelper:\n",
    "    def __init__(self, data_file):\n",
    "        xs = []\n",
    "        ys = []\n",
    "        \n",
    "        with open(data_file) as f:\n",
    "            header = f.readline()\n",
    "            dirname = os.path.dirname(data_file)\n",
    "            for line in f:\n",
    "                fields = line.split(\", \")\n",
    "                xs.append(os.path.join(dirname, fields[0]))\n",
    "                ys.append(fields[3])\n",
    "                \n",
    "        c = list(zip(xs, ys))\n",
    "        random.shuffle(c)\n",
    "        xs, ys = zip(*c)\n",
    "        \n",
    "        self._batch_pointer = 0\n",
    "        self._train_xs = xs[:(int)(len(xs) * 0.9)]\n",
    "        self._train_ys = ys[:(int)(len(xs) * 0.9)]\n",
    "\n",
    "        val_xs = []\n",
    "        val_ys = []\n",
    "        val_size = (int)(len(xs) * 0.1)\n",
    "        for i in range(val_size):\n",
    "            val_ys.append(ys[-i])\n",
    "            val_xs.append(scipy.misc.imread(xs[-i]))\n",
    "        \n",
    "        self._val_xs = np.asarray(val_xs)\n",
    "        self._val_ys = np.asarray(val_ys)\n",
    "        \n",
    "    def data_size(self):\n",
    "        return len(self._train_ys) + len(self._val_ys)\n",
    "    \n",
    "    def val_data(self):\n",
    "        return self._val_xs, self._val_ys\n",
    "\n",
    "    def next_train_batch(self, batch_size):\n",
    "        x_out = []\n",
    "        y_out = []\n",
    "        for i in range(batch_size):\n",
    "            data_idx = (self._batch_pointer + i) % len(self._train_ys)\n",
    "            y_out.append(self._train_ys[data_idx])\n",
    "            x_out.append(scipy.misc.imread(self._train_xs[data_idx]))\n",
    "\n",
    "        self._batch_pointer += batch_size\n",
    "        return np.asarray(x_out), np.asarray(y_out)"
   ]
  },
  {
   "cell_type": "code",
   "execution_count": 3,
   "metadata": {
    "collapsed": false
   },
   "outputs": [
    {
     "name": "stdout",
     "output_type": "stream",
     "text": [
      "8035\n"
     ]
    }
   ],
   "source": [
    "dh = DataHelper('data/driving_log.csv')\n",
    "print(dh.data_size())"
   ]
  },
  {
   "cell_type": "code",
   "execution_count": 4,
   "metadata": {
    "collapsed": false
   },
   "outputs": [
    {
     "name": "stdout",
     "output_type": "stream",
     "text": [
      "(64, 160, 320, 3) (64,)\n"
     ]
    }
   ],
   "source": [
    "x, y = dh.next_train_batch(64)\n",
    "print(x.shape, y.shape)"
   ]
  },
  {
   "cell_type": "code",
   "execution_count": 5,
   "metadata": {
    "collapsed": false
   },
   "outputs": [],
   "source": [
    "def simple_conv():\n",
    "    model = Sequential()\n",
    "    \n",
    "    model.add(Convolution2D(24, 5, 5, input_shape=(160, 320, 3)))\n",
    "    model.add(Activation('relu'))\n",
    "\n",
    "    model.add(Convolution2D(36, 5, 5))\n",
    "    model.add(Activation('relu'))\n",
    "\n",
    "    model.add(Convolution2D(48, 5, 5))\n",
    "    model.add(Activation('relu'))\n",
    "\n",
    "    model.add(Convolution2D(64, 5, 5))\n",
    "    model.add(Activation('relu'))\n",
    "\n",
    "    model.add(Convolution2D(64, 5, 5))\n",
    "    model.add(Activation('relu'))\n",
    "\n",
    "    model.add(Flatten())\n",
    "    model.add(Dense(1164))\n",
    "    model.add(Activation('relu'))\n",
    "    \n",
    "    model.add(Dense(100))\n",
    "    model.add(Activation('relu'))\n",
    "\n",
    "    model.add(Dense(50))\n",
    "    model.add(Activation('relu'))\n",
    "\n",
    "    model.add(Dense(10))\n",
    "    model.add(Activation('relu'))\n",
    "\n",
    "    model.add(Dense(1))\n",
    "    model.add(Activation('tanh'))\n",
    "\n",
    "    model.compile(optimizer='adam', loss='mean_squared_error')\n",
    "\n",
    "    return model"
   ]
  },
  {
   "cell_type": "code",
   "execution_count": 6,
   "metadata": {
    "collapsed": false
   },
   "outputs": [
    {
     "name": "stdout",
     "output_type": "stream",
     "text": [
      "____________________________________________________________________________________________________\n",
      "Layer (type)                     Output Shape          Param #     Connected to                     \n",
      "====================================================================================================\n",
      "convolution2d_1 (Convolution2D)  (None, 156, 316, 24)  1824        convolution2d_input_1[0][0]      \n",
      "____________________________________________________________________________________________________\n",
      "activation_1 (Activation)        (None, 156, 316, 24)  0           convolution2d_1[0][0]            \n",
      "____________________________________________________________________________________________________\n",
      "convolution2d_2 (Convolution2D)  (None, 152, 312, 36)  21636       activation_1[0][0]               \n",
      "____________________________________________________________________________________________________\n",
      "activation_2 (Activation)        (None, 152, 312, 36)  0           convolution2d_2[0][0]            \n",
      "____________________________________________________________________________________________________\n",
      "convolution2d_3 (Convolution2D)  (None, 148, 308, 48)  43248       activation_2[0][0]               \n",
      "____________________________________________________________________________________________________\n",
      "activation_3 (Activation)        (None, 148, 308, 48)  0           convolution2d_3[0][0]            \n",
      "____________________________________________________________________________________________________\n",
      "convolution2d_4 (Convolution2D)  (None, 144, 304, 64)  76864       activation_3[0][0]               \n",
      "____________________________________________________________________________________________________\n",
      "activation_4 (Activation)        (None, 144, 304, 64)  0           convolution2d_4[0][0]            \n",
      "____________________________________________________________________________________________________\n",
      "convolution2d_5 (Convolution2D)  (None, 140, 300, 64)  102464      activation_4[0][0]               \n",
      "____________________________________________________________________________________________________\n",
      "activation_5 (Activation)        (None, 140, 300, 64)  0           convolution2d_5[0][0]            \n",
      "____________________________________________________________________________________________________\n",
      "flatten_1 (Flatten)              (None, 2688000)       0           activation_5[0][0]               \n",
      "____________________________________________________________________________________________________\n",
      "dense_1 (Dense)                  (None, 1164)          3128833164  flatten_1[0][0]                  \n",
      "____________________________________________________________________________________________________\n",
      "activation_6 (Activation)        (None, 1164)          0           dense_1[0][0]                    \n",
      "____________________________________________________________________________________________________\n",
      "dense_2 (Dense)                  (None, 100)           116500      activation_6[0][0]               \n",
      "____________________________________________________________________________________________________\n",
      "activation_7 (Activation)        (None, 100)           0           dense_2[0][0]                    \n",
      "____________________________________________________________________________________________________\n",
      "dense_3 (Dense)                  (None, 50)            5050        activation_7[0][0]               \n",
      "____________________________________________________________________________________________________\n",
      "activation_8 (Activation)        (None, 50)            0           dense_3[0][0]                    \n",
      "____________________________________________________________________________________________________\n",
      "dense_4 (Dense)                  (None, 10)            510         activation_8[0][0]               \n",
      "____________________________________________________________________________________________________\n",
      "activation_9 (Activation)        (None, 10)            0           dense_4[0][0]                    \n",
      "____________________________________________________________________________________________________\n",
      "dense_5 (Dense)                  (None, 1)             11          activation_9[0][0]               \n",
      "____________________________________________________________________________________________________\n",
      "activation_10 (Activation)       (None, 1)             0           dense_5[0][0]                    \n",
      "====================================================================================================\n",
      "Total params: 3,129,201,271\n",
      "Trainable params: 3,129,201,271\n",
      "Non-trainable params: 0\n",
      "____________________________________________________________________________________________________\n"
     ]
    }
   ],
   "source": [
    "model = simple_conv()\n",
    "model.summary()"
   ]
  },
  {
   "cell_type": "code",
   "execution_count": null,
   "metadata": {
    "collapsed": false
   },
   "outputs": [
    {
     "name": "stdout",
     "output_type": "stream",
     "text": [
      "Starting training\n"
     ]
    }
   ],
   "source": [
    "EPOCHS = 1\n",
    "BATCH_SIZE = 64\n",
    "DATA_SIZE = dh.data_size()\n",
    "\n",
    "val_x, val_y = dh.val_data()\n",
    "\n",
    "print(\"Starting training\")\n",
    "for steps in range(EPOCHS * DATA_SIZE):\n",
    "    step_start = time.time()\n",
    "    cur_epoch = steps / DATA_SIZE\n",
    "    x, y = dh.next_train_batch(BATCH_SIZE)\n",
    "\n",
    "    train_loss = model.train_on_batch(x, y)\n",
    "    val_loss = model.evaluate(val_x, val_y, verbose=0)\n",
    "    \n",
    "    time_taken = time.time() - step_start\n",
    "    print(\"Steps {} train loss {} validation loss {} time taken {}\".format(\n",
    "            steps, train_loss, val_loss, time_taken))\n",
    "    \n",
    "    print(\"Saving model\")\n",
    "    model.save(\"model.h5\")"
   ]
  },
  {
   "cell_type": "code",
   "execution_count": null,
   "metadata": {
    "collapsed": true
   },
   "outputs": [],
   "source": []
  }
 ],
 "metadata": {
  "anaconda-cloud": {},
  "kernelspec": {
   "display_name": "Python [conda env:sdcnd]",
   "language": "python",
   "name": "conda-env-sdcnd-py"
  },
  "language_info": {
   "codemirror_mode": {
    "name": "ipython",
    "version": 3
   },
   "file_extension": ".py",
   "mimetype": "text/x-python",
   "name": "python",
   "nbconvert_exporter": "python",
   "pygments_lexer": "ipython3",
   "version": "3.5.2"
  }
 },
 "nbformat": 4,
 "nbformat_minor": 1
}
